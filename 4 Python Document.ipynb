{
 "cells": [
  {
   "cell_type": "markdown",
   "metadata": {},
   "source": [
    "# Object-Oriented-Programming (OOP)"
   ]
  },
  {
   "cell_type": "markdown",
   "metadata": {},
   "source": [
    "## Tasks Today:\n",
    "\n",
    "   \n",
    "\n",
    "1) <b>Creating a Class (Initializing/Declaring)</b> <br>\n",
    "2) <b>Using a Class (Instantiating)</b> <br>\n",
    " &nbsp;&nbsp;&nbsp;&nbsp; a) Creating One Instance <br>\n",
    " &nbsp;&nbsp;&nbsp;&nbsp; b) Creating Multiple Instances <br>\n",
    " &nbsp;&nbsp;&nbsp;&nbsp; c) In-Class Exercise #1 - Create a Class 'Car' and instantiate three different makes of cars <br>\n",
    "3) <b>The \\__init\\__() Method</b> <br>\n",
    " &nbsp;&nbsp;&nbsp;&nbsp; a) The 'self' Attribute <br>\n",
    "4) <b>Class Attributes</b> <br>\n",
    " &nbsp;&nbsp;&nbsp;&nbsp; a) Initializing Attributes <br>\n",
    " &nbsp;&nbsp;&nbsp;&nbsp; b) Setting an Attribute Outside of the \\__init\\__() Method <br>\n",
    " &nbsp;&nbsp;&nbsp;&nbsp; c) Setting Defaults for Attributes <br>\n",
    " &nbsp;&nbsp;&nbsp;&nbsp; d) Accessing Class Attributes <br>\n",
    " &nbsp;&nbsp;&nbsp;&nbsp; e) Changing Class Attributes <br>\n",
    " &nbsp;&nbsp;&nbsp;&nbsp; f) In-Class Exercise #2 - Add a color and wheels attribute to your 'Car' class <br>\n",
    "5) <b>Class Methods</b> <br>\n",
    " &nbsp;&nbsp;&nbsp;&nbsp; a) Creating <br>\n",
    " &nbsp;&nbsp;&nbsp;&nbsp; b) Calling <br>\n",
    " &nbsp;&nbsp;&nbsp;&nbsp; c) Modifying an Attribute's Value Through a Method <br>\n",
    " &nbsp;&nbsp;&nbsp;&nbsp; d) Incrementing an Attribute's Value Through a Method <br>\n",
    " &nbsp;&nbsp;&nbsp;&nbsp; e) In-Class Exercise #3 - Add a method that prints the cars color and wheel number, then call them <br>\n",
    "6) <b>Inheritance</b> <br>\n",
    " &nbsp;&nbsp;&nbsp;&nbsp; a) Syntax for Inheriting from a Parent Class <br>\n",
    " &nbsp;&nbsp;&nbsp;&nbsp; b) The \\__init\\__() Method for a Child Class (super()) <br>\n",
    " &nbsp;&nbsp;&nbsp;&nbsp; c) Defining Attributes and Methods for the Child Class <br>\n",
    " &nbsp;&nbsp;&nbsp;&nbsp; d) Method Overriding <br>\n",
    " &nbsp;&nbsp;&nbsp;&nbsp; e) In-Class Exercise #4 - Create a class 'Ford' that inherits from 'Car' class and initialize it as a Blue Ford Explorer with 4 wheels using the super() method <br>\n",
    "7) <b>Classes as Attributes</b> <br>\n",
    "8) <b>Exercises</b> <br>\n",
    " &nbsp;&nbsp;&nbsp;&nbsp; a) Exercise #1 - Turn the shopping cart program from yesterday into an object-oriented program <br>"
   ]
  },
  {
   "cell_type": "markdown",
   "metadata": {},
   "source": [
    "## Creating a Class (Initializing/Declaring)\n",
    "<p>When creating a class, function, or even a variable you are initializing that object. Initializing and Declaring occur at the same time in Python, whereas in lower level languages you have to declare an object before initializing it. This is the first step in the process of using a class.</p>"
   ]
  },
  {
   "cell_type": "code",
   "execution_count": 2,
   "metadata": {},
   "outputs": [],
   "source": [
    "class Car():\n",
    "    wheels = 4\n",
    "    color = 'blue'"
   ]
  },
  {
   "cell_type": "markdown",
   "metadata": {},
   "source": [
    "## Using a Class (Instantiating)\n",
    "<p>The process of creating a class is called <i>Instantiating</i>. Each time you create a variable of that type of class, it is referred to as an <i>Instance</i> of that class. This is the second step in the process of using a class.</p>"
   ]
  },
  {
   "cell_type": "markdown",
   "metadata": {},
   "source": [
    "##### Creating One Instance"
   ]
  },
  {
   "cell_type": "code",
   "execution_count": 3,
   "metadata": {},
   "outputs": [
    {
     "name": "stdout",
     "output_type": "stream",
     "text": [
      "blue\n"
     ]
    }
   ],
   "source": [
    "ford = Car()\n",
    "\n",
    "print(ford.color)"
   ]
  },
  {
   "cell_type": "markdown",
   "metadata": {},
   "source": [
    "##### Creating Multiple Instances"
   ]
  },
  {
   "cell_type": "code",
   "execution_count": 4,
   "metadata": {},
   "outputs": [
    {
     "name": "stdout",
     "output_type": "stream",
     "text": [
      "blue\n",
      "blue\n"
     ]
    }
   ],
   "source": [
    "chevy = Car()\n",
    "mercedes = Car()\n",
    "audi = Car()\n",
    "honda = Car()\n",
    "\n",
    "print(chevy.color)\n",
    "print(honda.color)"
   ]
  },
  {
   "cell_type": "markdown",
   "metadata": {},
   "source": [
    "##### In-Class Exercise #1 - Create a Class 'Car' and Instantiate three different makes of cars"
   ]
  },
  {
   "cell_type": "code",
   "execution_count": 7,
   "metadata": {},
   "outputs": [
    {
     "name": "stdout",
     "output_type": "stream",
     "text": [
      "black regular\n",
      "yellow regular\n",
      "gray premium\n"
     ]
    }
   ],
   "source": [
    "#doors color wheelnumber\n",
    "\n",
    "class Car():\n",
    "    def __init__(self, color = 'white', doors = 4, wheels = 4, gas = 'regular', \n",
    "                 engine_layout = 'inline', cylinders = 4):\n",
    "        self.color = color\n",
    "        self.doors = doors\n",
    "        self.wheels = wheels\n",
    "        self.gas = gas\n",
    "        self.engine_layout = engine_layout\n",
    "        self.cylinders = cylinders\n",
    "        \n",
    "honda = Car(color = 'black')\n",
    "dodge = Car(color = 'yellow', engine_layout = 'v', cylinders = 8)\n",
    "nissan = Car(color = 'gray', doors = 2, gas = 'premium', cylinders = 6)\n",
    "\n",
    "print(honda.color, honda.gas)\n",
    "print(dodge.color, dodge.gas)\n",
    "print(nissan.color, nissan.gas)\n",
    "        "
   ]
  },
  {
   "cell_type": "markdown",
   "metadata": {},
   "source": [
    "## The \\__init\\__() Method <br>\n",
    "<p>This method is used in almost every created class, and called only once upon the creation of the class instance. This method will initialize all variables needed for the object.</p>"
   ]
  },
  {
   "cell_type": "code",
   "execution_count": 8,
   "metadata": {},
   "outputs": [
    {
     "name": "stdout",
     "output_type": "stream",
     "text": [
      "black\n",
      "4\n",
      "blue\n",
      "6\n"
     ]
    }
   ],
   "source": [
    "class Car():\n",
    "    def __init__(self, color, wheels):\n",
    "        self.color = color\n",
    "        self.wheels = wheels\n",
    "    \n",
    "mazda = Car('black', 4)\n",
    "subaru = Car('blue', 6)\n",
    "\n",
    "print(mazda.color)\n",
    "print(mazda.wheels)\n",
    "\n",
    "print(subaru.color)\n",
    "print(subaru.wheels)"
   ]
  },
  {
   "cell_type": "markdown",
   "metadata": {},
   "source": [
    "##### The 'self' Attribute <br>\n",
    "<p>This attribute is required to keep track of specific instance's attributes. Without the self attribute, the program would not know how to reference or keep track of an instance's attributes.</p>"
   ]
  },
  {
   "cell_type": "code",
   "execution_count": null,
   "metadata": {},
   "outputs": [],
   "source": [
    "# see above"
   ]
  },
  {
   "cell_type": "markdown",
   "metadata": {},
   "source": [
    "## Class Attributes <br>\n",
    "<p>While variables are inside of a class, they are referred to as attributes and not variables. When someone says 'attribute' you know they're speaking about a class. Attributes can be initialized through the init method, or outside of it.</p>"
   ]
  },
  {
   "cell_type": "markdown",
   "metadata": {},
   "source": [
    "##### Initializing Attributes"
   ]
  },
  {
   "cell_type": "code",
   "execution_count": 9,
   "metadata": {},
   "outputs": [],
   "source": [
    "# see above\n",
    "\n",
    "class Toy():\n",
    "    kind = 'car' # this is a const\n",
    "    \n",
    "    def __init__(self, rooftop, horn, wheels):\n",
    "        self.rooftop = rooftop\n",
    "        self.horn = horn\n",
    "        self.wheels = wheels\n",
    "        \n",
    "tonka_truck = Toy(1, 1, 4)\n",
    "hotwheels_car = Toy(2, 3, 8)"
   ]
  },
  {
   "cell_type": "markdown",
   "metadata": {},
   "source": [
    "##### Accessing Class Attributes"
   ]
  },
  {
   "cell_type": "code",
   "execution_count": null,
   "metadata": {
    "scrolled": true
   },
   "outputs": [],
   "source": [
    "# See Above\n",
    "tonka_truck.rooftop\n",
    "hotwheels_car.wheels"
   ]
  },
  {
   "cell_type": "markdown",
   "metadata": {},
   "source": [
    "##### Setting Defaults for Attributes"
   ]
  },
  {
   "cell_type": "code",
   "execution_count": 10,
   "metadata": {},
   "outputs": [
    {
     "data": {
      "text/plain": [
       "'Blue'"
      ]
     },
     "execution_count": 10,
     "metadata": {},
     "output_type": "execute_result"
    }
   ],
   "source": [
    "class Car():\n",
    "    engine = '4.7L'\n",
    "    \n",
    "    def __init__(self, wheels):\n",
    "        self.wheels = wheels\n",
    "        self.color = 'Blue'\n",
    "\n",
    "honda = Car(4)\n",
    "honda.color"
   ]
  },
  {
   "cell_type": "markdown",
   "metadata": {},
   "source": [
    "##### Changing Class Attributes <br>\n",
    "<p>Keep in mind there are global class attributes and then there are attributes only available to each class instance which won't effect other classes.</p>"
   ]
  },
  {
   "cell_type": "code",
   "execution_count": 12,
   "metadata": {},
   "outputs": [
    {
     "name": "stdout",
     "output_type": "stream",
     "text": [
      "Before the change: Blue\n",
      "\n",
      "After change: White\n"
     ]
    }
   ],
   "source": [
    "jeep = Car(8)\n",
    "print(f'Before the change: {jeep.color}')\n",
    "jeep.color = 'White'\n",
    "print(f'\\nAfter change: {jeep.color}')"
   ]
  },
  {
   "cell_type": "code",
   "execution_count": null,
   "metadata": {},
   "outputs": [],
   "source": []
  },
  {
   "cell_type": "markdown",
   "metadata": {},
   "source": [
    "##### In-Class Exercise #2 - Add a doors and seats attribute to your 'Car' class then print out two different instances with different doors and seats"
   ]
  },
  {
   "cell_type": "code",
   "execution_count": 15,
   "metadata": {},
   "outputs": [
    {
     "name": "stdout",
     "output_type": "stream",
     "text": [
      "VW doors: 5\n",
      "VW seats: 4\n",
      "Porsche doors: 2\n",
      "Porsche seats: 2\n"
     ]
    }
   ],
   "source": [
    "class Car():\n",
    "    def __init__(self, color, wheels, doors, seats):\n",
    "        self.color = color\n",
    "        self.wheels = wheels\n",
    "        self.doors = doors\n",
    "        self.seats = seats\n",
    "    \n",
    "vw = Car('black', 4, 5, 4)\n",
    "porsche = Car('silver', 4, 2, 2)\n",
    "\n",
    "print(f'VW doors: {vw.doors}')\n",
    "print(f'VW seats: {vw.seats}')\n",
    "print(f'Porsche doors: {porsche.doors}')\n",
    "print(f'Porsche seats: {porsche.seats}')"
   ]
  },
  {
   "cell_type": "markdown",
   "metadata": {},
   "source": [
    "## Class Methods <br>\n",
    "<p>While inside of a class, functions are referred to as 'methods'. If you hear someone mention methods, they're speaking about classes. Methods are essentially functions, but only callable on the instances of a class.</p>"
   ]
  },
  {
   "cell_type": "markdown",
   "metadata": {},
   "source": [
    "##### Creating"
   ]
  },
  {
   "cell_type": "code",
   "execution_count": 24,
   "metadata": {},
   "outputs": [],
   "source": [
    "class ShoppingBag():\n",
    "    '''\n",
    "        The ShoppingBag class will have handles, capacity,\n",
    "        and items to place inside\n",
    "        \n",
    "        Atrributes for the class:\n",
    "        - handles: expected to be an integer\n",
    "        - capacty: expected to be a string OR integer\n",
    "        - items: expected to be a list\n",
    "    '''\n",
    "    def __init__(self, handles: int, capacity, items: list):\n",
    "        self.handles = handles\n",
    "        self.capacity = capacity\n",
    "        self.items = items\n",
    "        \n",
    "    # Write a method that shows the items in our ShoppingBag / this is our items list\n",
    "    def show_shopping_bag(self):\n",
    "        if self.items == []:\n",
    "            print('You have no items in your bag')\n",
    "            return\n",
    "        else:\n",
    "            for item in self.items:\n",
    "                print(item)\n",
    "    \n",
    "    # Show the capacity of the ShoppingBag - how much room is left\n",
    "    def show_capacity(self):\n",
    "        print(f'Your capacity is: {self.capacity}')\n",
    "    \n",
    "    # Add item(s) to the items list for the ShoppingBag\n",
    "    def add_to_shopping_bag(self):\n",
    "        products = input(\"What would you like to add? \")\n",
    "        self.items.append(products)\n",
    "        \n",
    "    # Change the capacity of the ShoppingBag\n",
    "    def change_bag_capacity(self, capacity):\n",
    "        self.capacity = capacity\n",
    "        \n",
    "    # Increase the capacity of the ShoppingBag by a default amount that we set to 10\n",
    "    def increase_capacity(self, capacity_change = 10):\n",
    "        if self.capacity == isinstance(self.capacity, str):\n",
    "            print(\"We can't add that here\")\n",
    "        else:\n",
    "            self.capacity += capacity_change"
   ]
  },
  {
   "cell_type": "markdown",
   "metadata": {},
   "source": [
    "##### Calling"
   ]
  },
  {
   "cell_type": "code",
   "execution_count": 25,
   "metadata": {},
   "outputs": [
    {
     "name": "stdout",
     "output_type": "stream",
     "text": [
      "What do you want to do? add/show/quit quit\n"
     ]
    }
   ],
   "source": [
    "# See Above\n",
    "whole_foods_bag = ShoppingBag(2, 10, [])\n",
    "\n",
    "# Create a function to run the ShoppingBag methods on our whole_foods_bag instance\n",
    "def run():\n",
    "    while True:\n",
    "        response = input('What do you want to do? add/show/quit ')\n",
    "        \n",
    "        if response.lower() == 'quit':\n",
    "            break\n",
    "        elif response.lower() == 'show':\n",
    "            whole_foods_bag.show_shopping_bag()\n",
    "        elif response.lower() == 'add':\n",
    "            whole_foods_bag.add_to_shopping_bag()\n",
    "        else:\n",
    "            print('Try another command')\n",
    "\n",
    "run()"
   ]
  },
  {
   "cell_type": "markdown",
   "metadata": {},
   "source": [
    "##### Modifying an Attribute's Value Through a Method"
   ]
  },
  {
   "cell_type": "code",
   "execution_count": 26,
   "metadata": {},
   "outputs": [
    {
     "name": "stdout",
     "output_type": "stream",
     "text": [
      "Your capacity is: 10\n",
      "Capacity after the change....\n",
      "Your capacity is: 40\n"
     ]
    }
   ],
   "source": [
    "whole_foods_bag.show_capacity()\n",
    "print('Capacity after the change....')\n",
    "whole_foods_bag.change_bag_capacity(40)\n",
    "whole_foods_bag.show_capacity()"
   ]
  },
  {
   "cell_type": "markdown",
   "metadata": {},
   "source": [
    "##### Incrementing an Attribute's Value Through a Method"
   ]
  },
  {
   "cell_type": "code",
   "execution_count": 27,
   "metadata": {},
   "outputs": [
    {
     "name": "stdout",
     "output_type": "stream",
     "text": [
      "Your capacity is: 40\n",
      "After increase...\n",
      "Your capacity is: 50\n"
     ]
    }
   ],
   "source": [
    "whole_foods_bag.show_capacity()\n",
    "print('After increase...')\n",
    "whole_foods_bag.increase_capacity()\n",
    "whole_foods_bag.show_capacity()"
   ]
  },
  {
   "cell_type": "markdown",
   "metadata": {},
   "source": [
    "##### In-Class Exercise #3 - Add a method that takes in three parameters of year, doors and seats and prints out a formatted print statement with make, model, year, seats, and doors"
   ]
  },
  {
   "cell_type": "code",
   "execution_count": 30,
   "metadata": {},
   "outputs": [
    {
     "name": "stdout",
     "output_type": "stream",
     "text": [
      "This car is from 2019 and is a Ford Explorer and has 4 doors and 5 seats\n"
     ]
    }
   ],
   "source": [
    "# Create class with 2 paramters inside of the __init__ which are make and model\n",
    "\n",
    "# Inside of the Car class create a method that has 4 parameter in total (self,year,door,seats)\n",
    "\n",
    "# Output: This car is from 2019 and is a Ford Expolorer and has 4 doors and 5 seats\n",
    "\n",
    "class Car():\n",
    "    def __init__(self, make, model):\n",
    "        self.make = make\n",
    "        self.model = model\n",
    "    \n",
    "    def specs(self, year, doors, seats):\n",
    "        self.year = year\n",
    "        self.doors = doors\n",
    "        self.seats = seats\n",
    "    \n",
    "    def print_info(self):\n",
    "        print(f'This car is from {self.year} and is a {self.make} {self.model}'\n",
    "              f' and has {self.doors} doors and {self.seats} seats')\n",
    "    \n",
    "ford = Car('Ford', 'Explorer')\n",
    "ford.specs(2019, 4, 5)\n",
    "ford.print_info()\n",
    "\n"
   ]
  },
  {
   "cell_type": "markdown",
   "metadata": {},
   "source": [
    "## Inheritance <br>\n",
    "<p>You can create a child-parent relationship between two classes by using inheritance. What this allows you to do is have overriding methods, but also inherit traits from the parent class. Think of it as an actual parent and child, the child will inherit the parent's genes, as will the classes in OOP</p>"
   ]
  },
  {
   "cell_type": "markdown",
   "metadata": {},
   "source": [
    "##### Syntax for Inheriting from a Parent Class"
   ]
  },
  {
   "cell_type": "code",
   "execution_count": 36,
   "metadata": {},
   "outputs": [
    {
     "name": "stdout",
     "output_type": "stream",
     "text": [
      "Bark\n",
      "Make some generic sound\n",
      "None\n",
      "9.8\n",
      "15\n"
     ]
    }
   ],
   "source": [
    "class Animal():\n",
    "    acceleration = 9.8\n",
    "    \n",
    "    def __init__(self, name, species, legs = 4):\n",
    "        self.name = name\n",
    "        self.species = species\n",
    "        self.legs = legs\n",
    "    \n",
    "    def make_sound(self):\n",
    "        print('Make some generic sound')\n",
    "\n",
    "# Child class\n",
    "class Dog(Animal):\n",
    "    speed = 15\n",
    "    \n",
    "    def print_info(self):\n",
    "        print(f'The Dog has {self.speed}mph in speed and {self.acceleration}')\n",
    "\n",
    "# Grand-Child class\n",
    "class Mutt(Dog):\n",
    "    color = 'Tan'\n",
    "    \n",
    "    # Override the ANIMAL class - using the Dog class to overwrite the __init__ from Animal\n",
    "    def __init__(self, name, species, eye_color, legs = 4):\n",
    "        Dog.__init__(self, name, species, legs)\n",
    "        self.eye_color = eye_color\n",
    "        \n",
    "    #override the make_sound method (from ANIMAL)\n",
    "    def make_sound(self):\n",
    "        noise = 'Bark'\n",
    "        return noise\n",
    "    \n",
    "lassie = Dog('Lassie', 'Dog')\n",
    "basic_animal = Animal('Gneric Animal Name', 'Generic Animal Speices')\n",
    "buster = Mutt('Buster', 'Mutt', 'Brown')\n",
    "\n",
    "print(buster.make_sound())\n",
    "print(lassie.make_sound())\n",
    "print(buster.acceleration)\n",
    "print(buster.speed)\n"
   ]
  },
  {
   "cell_type": "markdown",
   "metadata": {},
   "source": [
    "##### The \\__init\\__() Method for a Child Class - super()"
   ]
  },
  {
   "cell_type": "code",
   "execution_count": 37,
   "metadata": {
    "scrolled": true
   },
   "outputs": [],
   "source": [
    "#Super goes all the way to the highest Parent class\n",
    "\n",
    "class Puppy(Dog):\n",
    "    color = 'black and brown'\n",
    "    \n",
    "    # Override the Animal class __init__ (via Dog class)\n",
    "    def __init__(self, name, species, eye_color, legs = 4):\n",
    "        super().__init__(name, species, legs)\n",
    "        self.eye_color = eye_color\n",
    "    \n",
    "    # Override the make_sound() method\n",
    "    def make_sound(self):\n",
    "        noise = 'Arf'\n",
    "        return noise\n",
    "    "
   ]
  },
  {
   "cell_type": "markdown",
   "metadata": {},
   "source": [
    "##### Defining Attributes and Methods for the Child Class"
   ]
  },
  {
   "cell_type": "code",
   "execution_count": null,
   "metadata": {},
   "outputs": [],
   "source": [
    "# See Above"
   ]
  },
  {
   "cell_type": "markdown",
   "metadata": {},
   "source": [
    "##### Method Overriding"
   ]
  },
  {
   "cell_type": "code",
   "execution_count": null,
   "metadata": {},
   "outputs": [],
   "source": [
    "# See Above"
   ]
  },
  {
   "cell_type": "markdown",
   "metadata": {},
   "source": [
    "## Classes as Attributes <br>\n",
    "<p>Classes can also be used as attributes within another class. This is useful in situations where you need to keep variables locally stored, instead of globally stored.</p>"
   ]
  },
  {
   "cell_type": "code",
   "execution_count": 39,
   "metadata": {},
   "outputs": [
    {
     "name": "stdout",
     "output_type": "stream",
     "text": [
      "20\n"
     ]
    },
    {
     "data": {
      "text/plain": [
       "'2019 Tesla Model X 20'"
      ]
     },
     "execution_count": 39,
     "metadata": {},
     "output_type": "execute_result"
    }
   ],
   "source": [
    "class Battery():\n",
    "    volts = 7.8\n",
    "    \n",
    "    def __init__(self, cells):\n",
    "        self.cells = cells\n",
    "        \n",
    "class Car():\n",
    "    def __init__(self, year, make, model, battery):\n",
    "        self.year = year\n",
    "        self.make = make\n",
    "        self.model = model\n",
    "        self.battery = battery\n",
    "        \n",
    "    def print_info(self):\n",
    "        return f'{self.year} {self.make} {self.model} {self.battery.cells}'\n",
    "    \n",
    "my_battery = Battery(20)\n",
    "\n",
    "tesla = Car(2019, 'Tesla', 'Model X', my_battery)\n",
    "\n",
    "print(tesla.battery.cells)\n",
    "tesla.print_info()"
   ]
  },
  {
   "cell_type": "markdown",
   "metadata": {},
   "source": [
    "# Exercises"
   ]
  },
  {
   "cell_type": "markdown",
   "metadata": {},
   "source": [
    "### Exercise 1 - Turn the shopping cart program from yesterday into an object-oriented program\n",
    "\n",
    "The comments in the cell below are there as a guide for thinking about the problem. However, if you feel a different way is best for you and your own thought process, please do what feels best for you by all means."
   ]
  },
  {
   "cell_type": "code",
   "execution_count": 44,
   "metadata": {},
   "outputs": [
    {
     "name": "stdout",
     "output_type": "stream",
     "text": [
      "What would you like to do? Add / Remove / Show / Quit add\n",
      "What would you like to add to your cart? apple\n",
      "How many apple would you like? 345\n",
      "What would you like to do? Add / Remove / Show / Quit jeans\n",
      "Invalid input\n",
      "What would you like to do? Add / Remove / Show / Quit 3\n",
      "Invalid input\n",
      "What would you like to do? Add / Remove / Show / Quit add\n",
      "What would you like to add to your cart? jeans\n",
      "How many jeans would you like? 3\n",
      "What would you like to do? Add / Remove / Show / Quit show\n",
      "apple : 345\n",
      "jeans : 3\n",
      "What would you like to do? Add / Remove / Show / Quit remove\n",
      "What would you like to remove? jeans\n",
      "How many would you like to remove? Enter number or ALL 4\n",
      "What would you like to do? Add / Remove / Show / Quit show\n",
      "apple : 345\n",
      "What would you like to do? Add / Remove / Show / Quit quit\n",
      "apple : 345\n"
     ]
    }
   ],
   "source": [
    "# Create a class called cart that retains items and has methods to add, remove, and show\n",
    "\n",
    "class Cart():\n",
    "    '''\n",
    "        The Cart class will have a dictionary of items, and methods for manipulating\n",
    "        the dictionary\n",
    "\n",
    "        Atrributes for the Cart class:\n",
    "        - items: expected to be a dictionary where keys are items and vals are quantities\n",
    "\n",
    "        Methods for the Cart class:\n",
    "        shop: takes inputs to add/remove/show\n",
    "        add: takes an input for item name and quantity to add to cart, then adds to cart\n",
    "        remove: takes an input for what to remove and quantity to remove, then \n",
    "        removes (deleting if resulting quantity is <= 0)\n",
    "        show: displays the items in the cart and their quantities\n",
    "    '''\n",
    "    def __init__(self, items = {}):\n",
    "        self.items = items\n",
    "    \n",
    "    def add(self):\n",
    "        to_add = input('What would you like to add to your cart? ')\n",
    "        valid = False\n",
    "        while valid == False:\n",
    "            quantity = input(f'How many {to_add} would you like? ')\n",
    "            if quantity.isnumeric():\n",
    "                quantity = int(quantity)\n",
    "                valid = True\n",
    "        self.items.setdefault(to_add, 0)\n",
    "        self.items[to_add] += quantity\n",
    "    \n",
    "    def remove(self):\n",
    "        to_remove = input(\"What would you like to remove? \")\n",
    "        if to_remove not in self.items.keys():\n",
    "            print(\"Item does not exist\")\n",
    "        else:\n",
    "            valid = False\n",
    "            while valid == False:\n",
    "                num = input(\"How many would you like to remove? Enter number or ALL \")\n",
    "                if num.lower() == 'all':\n",
    "                    num = self.items[to_remove]\n",
    "                    valid = True\n",
    "                elif num.isnumeric():\n",
    "                    num = int(num)\n",
    "                    valid = True\n",
    "                else:\n",
    "                    print('Invalid entry, must be integer or \"all\"')\n",
    "                    continue\n",
    "                    \n",
    "                self.items[to_remove] -= num\n",
    "                if self.items[to_remove] <= 0:\n",
    "                    del self.items[to_remove]\n",
    "    \n",
    "    def show(self):\n",
    "        ordered_list = sorted(self.items.items())\n",
    "        for item, quantity in ordered_list:\n",
    "            print(f'{item} : {quantity}')\n",
    "    \n",
    "    def shop(self):\n",
    "        action = ''\n",
    "        while action.lower() != 'quit':\n",
    "            action = input('What would you like to do? Add / Remove / Show / Quit ')\n",
    "            action = action.lower()\n",
    "            if action == 'add':\n",
    "                self.add()\n",
    "            elif action == 'remove':\n",
    "                self.remove()\n",
    "            elif action == 'show':\n",
    "                self.show()\n",
    "            elif action not in ['add', 'remove', 'show', 'quit']:\n",
    "                print('Invalid input')\n",
    "        self.show()\n",
    "        \n",
    "\n",
    "cart = Cart()\n",
    "cart.shop()\n",
    "\n",
    "    "
   ]
  },
  {
   "cell_type": "markdown",
   "metadata": {},
   "source": [
    "### Exercise 2 - Write a Python class which has two methods get_String and print_String. get_String accept a string from the user and print_String print the string in upper case"
   ]
  },
  {
   "cell_type": "code",
   "execution_count": 47,
   "metadata": {},
   "outputs": [
    {
     "name": "stdout",
     "output_type": "stream",
     "text": [
      "Enter a string: This is a silly string\n",
      "THIS IS A SILLY STRING\n"
     ]
    }
   ],
   "source": [
    "class AllCaps():\n",
    "    def __init__(self):\n",
    "        self.user_string = ''\n",
    "    \n",
    "    def get_string(self):\n",
    "        self.user_string = input('Enter a string: ')\n",
    "    \n",
    "    def print_string(self):\n",
    "        print(self.user_string.upper())\n",
    "        \n",
    "go = AllCaps()\n",
    "go.get_string()\n",
    "go.print_string()\n",
    "        "
   ]
  }
 ],
 "metadata": {
  "kernelspec": {
   "display_name": "Python 3 (ipykernel)",
   "language": "python",
   "name": "python3"
  },
  "language_info": {
   "codemirror_mode": {
    "name": "ipython",
    "version": 3
   },
   "file_extension": ".py",
   "mimetype": "text/x-python",
   "name": "python",
   "nbconvert_exporter": "python",
   "pygments_lexer": "ipython3",
   "version": "3.11.4"
  }
 },
 "nbformat": 4,
 "nbformat_minor": 2
}
